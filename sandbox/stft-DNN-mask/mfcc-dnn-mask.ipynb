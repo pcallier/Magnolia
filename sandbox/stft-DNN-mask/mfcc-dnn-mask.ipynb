{
 "cells": [
  {
   "cell_type": "markdown",
   "metadata": {},
   "source": [
    "# MFCC Features for Masks\n",
    "\n",
    "Simple example of linear regression being used in conjunction with MFCCs."
   ]
  },
  {
   "cell_type": "code",
   "execution_count": 2,
   "metadata": {
    "collapsed": false
   },
   "outputs": [],
   "source": [
    "# Speech Libraries\n",
    "from python_speech_features import mfcc, get_filterbanks\n",
    "from python_speech_features.sigproc import deframesig\n",
    "import soundfile\n",
    "\n",
    "## Wave libraries\n",
    "from IPython.display import Audio\n",
    "from IPython.display import display\n",
    "import scipy.io.wavfile as wav\n",
    "\n",
    "## Standard python libraries\n",
    "import os,sys\n",
    "import numpy as np\n",
    "import matplotlib.pylab as plt\n",
    "%matplotlib inline"
   ]
  },
  {
   "cell_type": "markdown",
   "metadata": {},
   "source": [
    "## Data Preparation"
   ]
  },
  {
   "cell_type": "code",
   "execution_count": 11,
   "metadata": {
    "collapsed": false
   },
   "outputs": [],
   "source": [
    "sys.path.append('../../src/io')\n",
    "from hdf5_iterator import Hdf5Iterator\n"
   ]
  },
  {
   "cell_type": "markdown",
   "metadata": {},
   "source": [
    "## Noise Training"
   ]
  },
  {
   "cell_type": "code",
   "execution_count": null,
   "metadata": {
    "collapsed": false
   },
   "outputs": [],
   "source": [
    "audio_dir = '/data/fs4/datasets/magnolia/librispeech/LibriSpeech/dev-clean/'\n",
    "noise_dirs = os.listdir(audio_dir)\n",
    "\n",
    "noises = {}\n",
    "for iter_dir in noise_dirs:\n",
    "    if iter_dir == '1272':\n",
    "        continue\n",
    "    audio_dir_iter = audio_dir + iter_dir+'/'\n",
    "    audio_dir_iter_dirs = os.listdir(audio_dir_iter)\n",
    "    for audio_dir_iter_dir_iter in audio_dir_iter_dirs:\n",
    "        audio_files = os.listdir(audio_dir_iter+'/'+audio_dir_iter_dir_iter)\n",
    "        for audio_file in audio_files:\n",
    "            if not audio_file[-4:]=='flac':\n",
    "                continue\n",
    "            nsetime, fs = soundfile.read(audio_dir_iter+audio_dir_iter_dir_iter+'/'+audio_file)\n",
    "            nsespec = specdecomp(nsetime,samplerate=fs,nfft=nfft,\n",
    "                                 winlen=winlen,winstep=winstep,decomp='complex')\n",
    "            noises[audio_file] = nsespec\n",
    "            \n",
    "noises_keys = list( noises.keys() )"
   ]
  },
  {
   "cell_type": "code",
   "execution_count": null,
   "metadata": {
    "collapsed": false
   },
   "outputs": [],
   "source": [
    "def getbatch(numsamps, trainsplit=10, nfft=257):\n",
    "\n",
    "    sigbatch = np.zeros((numsamps, nfft)) + 0j\n",
    "    nsebatch = np.zeros((numsamps, nfft)) + 0j\n",
    "    mskbatch = np.zeros((numsamps, nfft))\n",
    "    for i in range(numsamps):\n",
    "        sigchoice = signals[ signal_keys[ np.random.choice(trainsplit) ] ]\n",
    "        sigbatch[i] = sigchoice[ np.random.choice(len(sigchoice))]\n",
    "\n",
    "        nsechoice = noises[ noises_keys[ np.random.choice(len(noises_keys))]]\n",
    "        nsebatch[i] = nsechoice[ np.random.choice(len(nsechoice))]\n",
    "        \n",
    "        mskbatch[i] = abs(sigbatch[i]) > abs(nsebatch[i])\n",
    "        \n",
    "    return sigbatch, nsebatch, mskbatch\n",
    "\n",
    "sigbatch, nsebatch, mskbatch = getbatch(10*1024)"
   ]
  },
  {
   "cell_type": "markdown",
   "metadata": {},
   "source": [
    "## Deep Neural Network Solution"
   ]
  },
  {
   "cell_type": "code",
   "execution_count": null,
   "metadata": {
    "collapsed": false
   },
   "outputs": [],
   "source": [
    "train_from_scratch = False\n",
    "continue_to_train = True\n",
    "save_trained_model = 'dnn-1024-2048-2048-2048.h5' \n",
    "load_trained_model = False\n",
    "\n",
    "import os\n",
    "# os.environ['KERAS_BACKEND']= \"tensorflow\"\n",
    "os.environ['KERAS_BACKEND']= \"theano\"\n",
    "import keras\n",
    "from keras.models import Sequential, load_model\n",
    "from keras.optimizers import Adam\n",
    "from keras.layers.core import Dense, Activation, Dropout, Lambda\n",
    "from keras.objectives import binary_crossentropy\n",
    "\n",
    "if train_from_scratch:\n",
    "    model = Sequential()\n",
    "    model.add(Dense(input_dim=257, output_dim=1024, init=\"uniform\"))\n",
    "    model.add(Activation(\"relu\"))\n",
    "    model.add(Dense(input_dim=1024, output_dim=2048, init=\"uniform\"))\n",
    "    model.add(Activation(\"relu\"))\n",
    "    model.add(Dense(input_dim=2048, output_dim=2048, init=\"uniform\"))\n",
    "    model.add(Activation(\"relu\"))\n",
    "    model.add(Dense(input_dim=2048, output_dim=2048, init=\"uniform\"))\n",
    "    model.add(Activation(\"relu\"))\n",
    "    model.add(Dense(input_dim=2048, output_dim=257))\n",
    "    model.add(Activation(\"sigmoid\"))\n",
    "    optimizer_init=Adam(lr=0.001, beta_1=0.9, beta_2=0.999, epsilon=1e-08)\n",
    "    model.compile(loss=binary_crossentropy, optimizer=optimizer_init)\n",
    "\n",
    "if continue_to_train:\n",
    "    for epoch in range(1000):\n",
    "        sys.stdout.write('\\r Getting batch ')\n",
    "        sigbatch, nsebatch, mskbatch = getbatch(10*1024)\n",
    "        sys.stdout.write('\\r Starting to train')\n",
    "        modelloss = model.fit(abs(sigbatch+nsebatch), mskbatch, nb_epoch=1, batch_size=32,verbose=0,shuffle=1)\n",
    "        sys.stdout.write( '\\r Epoch: '+str(epoch)+', '+ str(modelloss.history['loss'][0])+'\\n' )\n",
    "\n",
    "if save_trained_model:\n",
    "    model.save(save_trained_model, overwrite=False)\n",
    "    \n",
    "# if load_trained_model:\n",
    "#     model = load_model(load_trained_model)\n",
    "    \n",
    "# mask_recon = model.predict(mfcc_feat)"
   ]
  },
  {
   "cell_type": "markdown",
   "metadata": {},
   "source": [
    "## Recover FFT magnitude\n",
    "\n",
    "First recover the magnitude response through power spectrum."
   ]
  },
  {
   "cell_type": "code",
   "execution_count": null,
   "metadata": {
    "collapsed": false
   },
   "outputs": [],
   "source": [
    "# Choose original signal and noise\n",
    "signaldemo = 1.5*signals[signal_keys[5]]\n",
    "noisedemo = list( noises.values() )[2000]\n",
    "\n",
    "# Add them together\n",
    "minsamps = np.min( [signaldemo.shape[0], noisedemo.shape[0]] )\n",
    "signoise = signaldemo[:minsamps]+noisedemo[:minsamps]\n",
    "\n",
    "# Predict based on signal STFT spectra\n",
    "prediction = model.predict(abs(signoise))\n",
    "\n",
    "signoiserecon = np.fft.irfft( signoise )\n",
    "signoiserecon = signoiserecon[:,:(int(fs*winlen))]\n",
    "signoiserecon = deframesig(signoiserecon, 0, int(fs*winlen), int(fs*winstep))\n",
    "\n",
    "sigrecon = prediction * abs(signoise) * np.exp( 1j * np.angle(signoise) )\n",
    "sigrecon = np.fft.irfft( sigrecon )\n",
    "sigrecon = sigrecon[:,:(int(fs*winlen))]\n",
    "sigrecon = deframesig(sigrecon, 0, int(fs*winlen),int(fs*winstep))\n",
    "\n",
    "display(Audio(signoiserecon, rate=fs))\n",
    "\n",
    "display(Audio(sigrecon,rate=fs))\n"
   ]
  },
  {
   "cell_type": "code",
   "execution_count": null,
   "metadata": {
    "collapsed": false,
    "scrolled": false
   },
   "outputs": [],
   "source": [
    "snda_recon = snda_recon.astype(np.int16)\n",
    "plt.subplot(121); plt.imshow(np.log(mfcc_magni),aspect=0.4); \n",
    "plt.title('Original spectrum'); plt.colorbar(); plt.ylabel('Time (Sample)')\n",
    "plt.subplot(122); plt.imshow(np.log(magni_A),aspect=0.4); \n",
    "plt.title('Reconstructed spectrum'); plt.colorbar(); plt.ylabel('Time (Sample)')\n",
    "display(Audio(snda_recon,rate=fs))\n"
   ]
  },
  {
   "cell_type": "code",
   "execution_count": null,
   "metadata": {
    "collapsed": false
   },
   "outputs": [],
   "source": [
    "the_tuple = (1,2,3)\n",
    "sum(the_tuple)"
   ]
  }
 ],
 "metadata": {
  "kernelspec": {
   "display_name": "Python 3",
   "language": "python",
   "name": "python3"
  },
  "language_info": {
   "codemirror_mode": {
    "name": "ipython",
    "version": 3
   },
   "file_extension": ".py",
   "mimetype": "text/x-python",
   "name": "python",
   "nbconvert_exporter": "python",
   "pygments_lexer": "ipython3",
   "version": "3.5.2"
  }
 },
 "nbformat": 4,
 "nbformat_minor": 2
}
